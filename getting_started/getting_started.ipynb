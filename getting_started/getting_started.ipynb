{
 "cells": [
  {
   "cell_type": "markdown",
   "metadata": {},
   "source": [
    "#### Import Apache Cassandra python package"
   ]
  },
  {
   "cell_type": "code",
   "execution_count": 3,
   "metadata": {},
   "outputs": [],
   "source": [
    "#import cassandra\n",
    "from utility.cql_builder import *"
   ]
  },
  {
   "cell_type": "markdown",
   "metadata": {},
   "source": [
    "### Create a connection to node(s) and create a session"
   ]
  },
  {
   "cell_type": "code",
   "execution_count": null,
   "metadata": {},
   "outputs": [],
   "source": [
    "from cassandra.cluster import Cluster\n",
    "#list node ips\n",
    "node_ips = []\n",
    "#or connect to contact points, \n",
    "# driver will automatically discover the rest of nodes in cluster and connect them.\n",
    "contact_node = \"\"\n",
    "\n",
    "try: \n",
    "    cluster = Cluster(contact_node)\n",
    "    session = cluster.connect()\n",
    "except Exception as e:\n",
    "    print(e)"
   ]
  },
  {
   "cell_type": "markdown",
   "metadata": {},
   "source": [
    "### Create a keyspace on the connection"
   ]
  },
  {
   "cell_type": "code",
   "execution_count": null,
   "metadata": {},
   "outputs": [],
   "source": [
    "keyspace_name = \"\"\n",
    "cql = cql_builder.build_create_keyspace_cql(keyspace_name=keyspace_name, replication_factor=1)\n",
    "try:\n",
    "    session.execute(cql)\n",
    "except Exception as e:\n",
    "    print(e)"
   ]
  },
  {
   "cell_type": "markdown",
   "metadata": {},
   "source": [
    "### Reference to keyspace"
   ]
  },
  {
   "cell_type": "code",
   "execution_count": null,
   "metadata": {},
   "outputs": [],
   "source": [
    "try:\n",
    "    session.set_keyspace(keyspace_name)\n",
    "except Exception as e:\n",
    "    print(e)"
   ]
  },
  {
   "cell_type": "markdown",
   "metadata": {},
   "source": [
    "### Create column families on the referenced keyspace"
   ]
  },
  {
   "cell_type": "code",
   "execution_count": 4,
   "metadata": {},
   "outputs": [
    {
     "name": "stdout",
     "output_type": "stream",
     "text": [
      "\n",
      "        CREATE TABLE IF NOT EXISTS music_library (year smallint, artist_name text, album_name text, primary key(year, artist_name, album_name))\n",
      "    \n",
      "\n",
      "        CREATE TABLE IF NOT EXISTS artist_library (year smallint, artist_name text, album_name text, primary key(artist_name, album_name))\n",
      "    \n",
      "\n",
      "        CREATE TABLE IF NOT EXISTS album_library (year smallint, artist_name text, album_name text, primary key(album_name, artist_name))\n",
      "    \n"
     ]
    }
   ],
   "source": [
    "create_music_library_cql = build_create_table_cql(\n",
    "    table_name=\"music_library\",\n",
    "    columns = [\n",
    "            \"year smallint\",\n",
    "            \"artist_name text\",\n",
    "            \"album_name text\",\n",
    "            ],\n",
    "    primary_key = \"year, artist_name, album_name\"\n",
    "    )\n",
    "\n",
    "create_artist_library_cql = build_create_table_cql(\n",
    "    table_name = \"artist_library\",\n",
    "    columns = [\n",
    "            \"year smallint\",\n",
    "            \"artist_name text\",\n",
    "            \"album_name text\",\n",
    "            ],\n",
    "    primary_key = \"artist_name, album_name\"\n",
    "    )\n",
    "\n",
    "create_album_library_cql = build_create_table_cql(\n",
    "    table_name = \"album_library\",\n",
    "    columns = [\n",
    "            \"year smallint\",\n",
    "            \"artist_name text\",\n",
    "            \"album_name text\",\n",
    "            ],\n",
    "    primary_key = \"album_name, artist_name\"\n",
    "    )\n",
    "\n",
    "# try:\n",
    "#     session.execute()\n",
    "# except Exception as e:\n",
    "#     print(e)"
   ]
  },
  {
   "cell_type": "markdown",
   "metadata": {},
   "source": [
    "### Insert data into the tables"
   ]
  },
  {
   "cell_type": "code",
   "execution_count": null,
   "metadata": {},
   "outputs": [],
   "source": [
    "query = \"INSERT INTO music_library (year, artist_name, album_name) VALUES (%s, %s, %s)\"\n",
    "try:\n",
    "    session.execute(query, (1970, \"The Beatles\", \"Let it Be\"))\n",
    "except Exception as e:\n",
    "    print(e)"
   ]
  },
  {
   "cell_type": "markdown",
   "metadata": {},
   "source": [
    "### Query data"
   ]
  },
  {
   "cell_type": "code",
   "execution_count": null,
   "metadata": {},
   "outputs": [],
   "source": [
    "query = \"select * from #### WHERE #####\"\n",
    "# try:\n",
    "#     rows = session.execute(query)\n",
    "# except Exception as e:\n",
    "#     print(e)"
   ]
  },
  {
   "cell_type": "markdown",
   "metadata": {},
   "source": [
    "### Close the session, connection"
   ]
  },
  {
   "cell_type": "code",
   "execution_count": null,
   "metadata": {},
   "outputs": [],
   "source": [
    "session.shutdown()\n",
    "cluster.shutdown()"
   ]
  }
 ],
 "metadata": {
  "kernelspec": {
   "display_name": "Python 3.11.1 64-bit",
   "language": "python",
   "name": "python3"
  },
  "language_info": {
   "codemirror_mode": {
    "name": "ipython",
    "version": 3
   },
   "file_extension": ".py",
   "mimetype": "text/x-python",
   "name": "python",
   "nbconvert_exporter": "python",
   "pygments_lexer": "ipython3",
   "version": "3.11.1"
  },
  "orig_nbformat": 4,
  "vscode": {
   "interpreter": {
    "hash": "d417a21d97a2e6b8832d21dc44f5cbe4be6e18325f874a8bb8484565b928cd54"
   }
  }
 },
 "nbformat": 4,
 "nbformat_minor": 2
}
